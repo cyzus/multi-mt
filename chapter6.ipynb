{
 "cells": [
  {
   "cell_type": "markdown",
   "metadata": {},
   "source": [
    "# Excercise 6\n",
    "## Question 1\n",
    "(a) Show empirically that the information limit of 2 prediction bits per parameter also holds for nearest neighbors\n"
   ]
  },
  {
   "cell_type": "code",
   "execution_count": 76,
   "metadata": {},
   "outputs": [],
   "source": [
    "import numpy as np\n",
    "import math\n",
    "from sklearn.neighbors import KNeighborsClassifier # import knn from sklearn\n"
   ]
  },
  {
   "cell_type": "code",
   "execution_count": 43,
   "metadata": {},
   "outputs": [],
   "source": [
    "X = np.random.rand(1000, 1)\n",
    "y = np.random.choice([0, 1], 1000)"
   ]
  },
  {
   "cell_type": "code",
   "execution_count": 58,
   "metadata": {},
   "outputs": [
    {
     "data": {
      "text/plain": [
       "KNeighborsClassifier(n_neighbors=1)"
      ]
     },
     "execution_count": 58,
     "metadata": {},
     "output_type": "execute_result"
    }
   ],
   "source": [
    "k = 1\n",
    "model = KNeighborsClassifier(n_neighbors=k)\n",
    "model.fit(X, y)\n"
   ]
  },
  {
   "cell_type": "code",
   "execution_count": 59,
   "metadata": {},
   "outputs": [
    {
     "name": "stdout",
     "output_type": "stream",
     "text": [
      "1.0\n"
     ]
    }
   ],
   "source": [
    "predictions = model.predict(X)\n",
    "accuracy = np.mean(predictions == y)\n",
    "print(accuracy)"
   ]
  },
  {
   "cell_type": "code",
   "execution_count": 62,
   "metadata": {},
   "outputs": [
    {
     "name": "stdout",
     "output_type": "stream",
     "text": [
      "503 497\n"
     ]
    }
   ],
   "source": [
    "num0 = np.sum(predictions == 0)\n",
    "num1 = np.sum(predictions == 1)\n",
    "p = [num0/(num0+num1), num1/(num0+num1)]\n",
    "print(num0, num1)"
   ]
  },
  {
   "cell_type": "code",
   "execution_count": 63,
   "metadata": {},
   "outputs": [
    {
     "name": "stdout",
     "output_type": "stream",
     "text": [
      "999.9740313334506\n",
      "0.9999740313334506 < 2, so the information limit holds\n"
     ]
    }
   ],
   "source": [
    "H = -np.sum([pi * np.log2(pi) for pi in p]) * len(y)\n",
    "print(H)\n",
    "print(H/len(y), \"< 2, so the information limit holds\")\n"
   ]
  },
  {
   "cell_type": "markdown",
   "metadata": {},
   "source": [
    "(b) Extend your experiments to multi-class classification."
   ]
  },
  {
   "cell_type": "code",
   "execution_count": 70,
   "metadata": {},
   "outputs": [],
   "source": [
    "X = np.random.rand(1000, 1)\n",
    "y = np.random.choice([0, 1, 2], 1000)"
   ]
  },
  {
   "cell_type": "code",
   "execution_count": 71,
   "metadata": {},
   "outputs": [
    {
     "data": {
      "text/plain": [
       "KNeighborsClassifier(n_neighbors=1)"
      ]
     },
     "execution_count": 71,
     "metadata": {},
     "output_type": "execute_result"
    }
   ],
   "source": [
    "k = 1\n",
    "model = KNeighborsClassifier(n_neighbors=k)\n",
    "model.fit(X, y)\n"
   ]
  },
  {
   "cell_type": "code",
   "execution_count": 72,
   "metadata": {},
   "outputs": [
    {
     "name": "stdout",
     "output_type": "stream",
     "text": [
      "1.0\n"
     ]
    }
   ],
   "source": [
    "predictions = model.predict(X)\n",
    "accuracy = np.mean(predictions == y)\n",
    "print(accuracy)"
   ]
  },
  {
   "cell_type": "code",
   "execution_count": 73,
   "metadata": {},
   "outputs": [
    {
     "name": "stdout",
     "output_type": "stream",
     "text": [
      "[344, 337, 319]\n"
     ]
    }
   ],
   "source": [
    "nums = [np.sum(predictions == i) for i in range(3)]\n",
    "p = [num/len(y) for num in nums]\n",
    "print(nums)"
   ]
  },
  {
   "cell_type": "code",
   "execution_count": 77,
   "metadata": {},
   "outputs": [
    {
     "name": "stdout",
     "output_type": "stream",
     "text": [
      "999.5433792751933\n",
      "0.9995433792751933 < 1.5, so the information limit holds\n"
     ]
    }
   ],
   "source": [
    "H = -np.sum([pi * math.log(pi, len(p)) for pi in p]) * len(y)\n",
    "print(H)\n",
    "print(H/len(y), \"< 1.5, so the information limit holds\")\n"
   ]
  },
  {
   "cell_type": "markdown",
   "metadata": {},
   "source": [
    "## Question 2 Finite State Machine Generalization\n",
    "(a) Implement a program that automatically creates a set of if then clauses from the training table of a binary dataset of your choice. Implement different strategies to minimize the number of if-then clauses. Document your strategies, the number of resulting conditional clauses, and the accuracy achieved.\n"
   ]
  },
  {
   "cell_type": "code",
   "execution_count": 79,
   "metadata": {},
   "outputs": [],
   "source": [
    "import pandas as pd\n"
   ]
  },
  {
   "cell_type": "code",
   "execution_count": 88,
   "metadata": {},
   "outputs": [
    {
     "data": {
      "text/plain": [
       "((8000, 6), (8000,))"
      ]
     },
     "execution_count": 88,
     "metadata": {},
     "output_type": "execute_result"
    }
   ],
   "source": [
    "# Banana quality dataset\n",
    "dataset = pd.read_csv(\"datasets/banana_quality.csv\")\n",
    "dataset[\"result\"] = dataset[\"Quality\"].apply(lambda x: 1 if x == \"Good\" else 0)\n",
    "X = dataset[[\"Size\", \"Weight\", \"Sweetness\", \"HarvestTime\", \"Ripeness\", \"Acidity\"]].values\n",
    "y = dataset[\"result\"].values\n",
    "X.shape, y.shape"
   ]
  },
  {
   "cell_type": "code",
   "execution_count": 91,
   "metadata": {},
   "outputs": [
    {
     "data": {
      "text/plain": [
       "(1.0, 1115)"
      ]
     },
     "execution_count": 91,
     "metadata": {},
     "output_type": "execute_result"
    }
   ],
   "source": [
    "# Baseline Approach: Decision Tree\n",
    "from sklearn.tree import DecisionTreeClassifier\n",
    "\n",
    "def train_decision_tree(X, y):\n",
    "    model = DecisionTreeClassifier()\n",
    "    model.fit(X, y)\n",
    "    return model\n",
    "\n",
    "model = train_decision_tree(X, y)\n",
    "model.score(X, y), model.tree_.node_count"
   ]
  },
  {
   "cell_type": "code",
   "execution_count": 98,
   "metadata": {},
   "outputs": [
    {
     "data": {
      "text/plain": [
       "(1.0, 48000)"
      ]
     },
     "execution_count": 98,
     "metadata": {},
     "output_type": "execute_result"
    }
   ],
   "source": [
    "# Unique values for each feature \n",
    "def unique_feature_value_strategy(X, y):\n",
    "    def apply_rules(rules, X):\n",
    "        y_pred = np.zeros(X.shape[0])\n",
    "        for i, value, pred in rules:\n",
    "            y_pred[X[:, i] == value] = pred\n",
    "        return y_pred\n",
    "    rules = []\n",
    "    for i in range(X.shape[1]):  # Iterate over each feature\n",
    "        unique_values = np.unique(X[:, i])\n",
    "        for value in unique_values:\n",
    "            if np.mean(y[X[:, i] == value]) > 0.5:  # Majority class\n",
    "                rules.append((i, value, 1))\n",
    "            else:\n",
    "                rules.append((i, value, 0))\n",
    "    return rules, apply_rules\n",
    "\n",
    "\n",
    "\n",
    "rules, apply_rules = unique_feature_value_strategy(X, y)\n",
    "y_pred = apply_rules(rules, X)\n",
    "\n",
    "np.mean(y_pred == y), len(rules)\n"
   ]
  },
  {
   "cell_type": "code",
   "execution_count": 140,
   "metadata": {},
   "outputs": [],
   "source": [
    "# decision tree from scratch\n",
    "\n",
    "class Node:\n",
    "    def __init__(self, feature=None, value=None, left=None, right=None, threshold=None):\n",
    "        self.feature = feature\n",
    "        self.value = value\n",
    "        self.left = left\n",
    "        self.right = right\n",
    "        self.threshold = threshold\n",
    "\n",
    "class DecisionTree:\n",
    "    def __init__(self, max_depth=None):\n",
    "        self.max_depth = max_depth\n",
    "        self.root = None\n",
    "    \n",
    "    def fit(self, X, y):\n",
    "        self.root = self._grow_tree(X, y, depth=0)\n",
    "    \n",
    "    \n",
    "    def _entropy(self, y):\n",
    "        p = np.array([np.mean(y == c) for c in np.unique(y)])\n",
    "        return -np.sum(p * np.log2(p))\n",
    "    \n",
    "    def _information_gain(self, X, y, feature, threshold):\n",
    "        left = y[X[:, feature] < threshold]\n",
    "        right = y[X[:, feature] >= threshold]\n",
    "        n = len(y)\n",
    "        y_left = len(left) / n * self._entropy(left)\n",
    "        y_right = len(right) / n * self._entropy(right)\n",
    "        return self._entropy(y) - (y_left + y_right)\n",
    "        \n",
    "    \n",
    "    def _grow_tree(self, X, y, depth):\n",
    "        n_samples, n_features = X.shape\n",
    "        n_classes = len(np.unique(y))\n",
    "        if (self.max_depth is not None and depth >= self.max_depth) or n_classes == 1 or n_samples < 2:\n",
    "            value = int(np.mean(y) > 0.5)\n",
    "            return Node(value=value)\n",
    "        best_gain = 0\n",
    "        best_feature = None\n",
    "        best_threshold = None\n",
    "        # calculate the information gain for each feature\n",
    "        for feature in range(n_features):\n",
    "            unique_values = np.unique(X[:, feature])\n",
    "            for value in unique_values:\n",
    "                gain = self._information_gain(X, y, feature, value)\n",
    "                if gain > best_gain:\n",
    "                    best_gain = gain\n",
    "                    best_feature = feature\n",
    "                    best_threshold = value\n",
    "        \n",
    "        if best_gain <= 0:\n",
    "            value = int(np.mean(y) > 0.5)\n",
    "            return Node(value=value)\n",
    "        else:\n",
    "            left_indices = X[:, best_feature] < best_threshold\n",
    "            right_indices = X[:, best_feature] >= best_threshold\n",
    "            left = self._grow_tree(X[left_indices], y[left_indices], depth + 1)\n",
    "            right = self._grow_tree(X[right_indices], y[right_indices], depth + 1)\n",
    "            return Node(feature=best_feature, threshold=best_threshold, left=left, right=right)\n",
    "        \n",
    "    def n_nodes(self):\n",
    "        def _n_nodes(node):\n",
    "            if node is None:\n",
    "                return 0\n",
    "            return 1 + _n_nodes(node.left) + _n_nodes(node.right)\n",
    "        return _n_nodes(self.root)\n",
    "        \n",
    "    def _predict_single(self, node, X):\n",
    "        if node.value is not None:\n",
    "            return node.value\n",
    "\n",
    "        if X[node.feature] < node.threshold:\n",
    "            return self._predict_single(node.left, X)\n",
    "        else:\n",
    "            return self._predict_single(node.right, X)\n",
    "    def predict(self, X):\n",
    "        return [self._predict_single(self.root, X[i]) for i in range(X.shape[0])]\n",
    "    \n",
    "\n",
    "\n",
    "model = DecisionTree(max_depth=None)\n",
    "model.fit(X, y)\n"
   ]
  },
  {
   "cell_type": "code",
   "execution_count": 142,
   "metadata": {},
   "outputs": [
    {
     "data": {
      "text/plain": [
       "(1.0, 1013)"
      ]
     },
     "execution_count": 142,
     "metadata": {},
     "output_type": "execute_result"
    }
   ],
   "source": [
    "y_pred = model.predict(X)\n",
    "np.mean(y_pred == y), model.n_nodes()"
   ]
  },
  {
   "cell_type": "markdown",
   "metadata": {},
   "source": [
    "I used three methods. \n",
    "The first one is sklearn's decision tree; \n",
    "\n",
    "The second one:\n",
    "Iterate through every feature, memorize all the unique values, and use them as clauses such that if more y == 1 have that unique values, predict it as 1 else 0.\n",
    "\n",
    "The third one:\n",
    "A decision tree from scratch. At each node, find the unique value of the feature that yields the highest information gain, and use them as the split for the node.\n",
    "\n",
    "1. number of clauses: 1115; acc: 1.0\n",
    "2. number of clauses: 48000; acc: 1.0\n",
    "3. number of clauses: 1013; acc: 1.0\n",
    "\n",
    "\n"
   ]
  },
  {
   "cell_type": "markdown",
   "metadata": {},
   "source": [
    "(b) Use the algorithms developed in (a) on different datasets. Again, observe how your choices make a difference."
   ]
  },
  {
   "cell_type": "code",
   "execution_count": 164,
   "metadata": {},
   "outputs": [],
   "source": [
    "# Heart Disease Dataset\n",
    "dataset = pd.read_csv(\"datasets/heart.csv\")\n",
    "X = dataset.drop(\"output\", axis=1).values\n",
    "y = dataset[\"output\"].values"
   ]
  },
  {
   "cell_type": "code",
   "execution_count": 165,
   "metadata": {},
   "outputs": [],
   "source": [
    "def check_methods(X, y):\n",
    "    model = DecisionTreeClassifier()\n",
    "    model.fit(X, y)\n",
    "    print(\"SKLearn Decision Tree:\", model.score(X, y), model.tree_.node_count)\n",
    "    model = DecisionTree(max_depth=None)\n",
    "    model.fit(X, y)\n",
    "    print(\"Decision Tree from scratch:\", np.mean(model.predict(X) == y), model.n_nodes())\n",
    "    rules, apply_rules = unique_feature_value_strategy(X, y)\n",
    "    y_pred = apply_rules(rules, X)\n",
    "    print(\"Unique Feature Value Strategy:\", np.mean(y_pred == y), len(rules))\n",
    "    print(\"Number of samples:\", X.shape[0])\n",
    "    "
   ]
  },
  {
   "cell_type": "code",
   "execution_count": 166,
   "metadata": {},
   "outputs": [
    {
     "name": "stdout",
     "output_type": "stream",
     "text": [
      "SKLearn Decision Tree: 1.0 91\n",
      "Decision Tree from scratch: 1.0 91\n",
      "Unique Feature Value Strategy: 0.7656765676567657 398\n",
      "Number of samples: 303\n"
     ]
    }
   ],
   "source": [
    "check_methods(X, y)"
   ]
  },
  {
   "cell_type": "code",
   "execution_count": 167,
   "metadata": {},
   "outputs": [],
   "source": [
    "dataset = pd.read_csv(\"datasets/water_potability.csv\").dropna()\n",
    "X = dataset.drop(\"Potability\", axis=1).values\n",
    "y = dataset[\"Potability\"].values"
   ]
  },
  {
   "cell_type": "code",
   "execution_count": 163,
   "metadata": {},
   "outputs": [
    {
     "name": "stdout",
     "output_type": "stream",
     "text": [
      "SKLearn Decision Tree: 1.0 775\n"
     ]
    },
    {
     "name": "stdout",
     "output_type": "stream",
     "text": [
      "Decision Tree from scratch: 1.0 755\n",
      "Unique Feature Value Strategy: 1.0 18099\n",
      "Number of samples: 2011\n"
     ]
    }
   ],
   "source": [
    "check_methods(X, y)"
   ]
  },
  {
   "cell_type": "markdown",
   "metadata": {},
   "source": [
    "Hand-written Decision Tree has used 94 and 755 clauses in respective dataset - it uses the smallest amount of clauses\n",
    "The unique feature value strategy uses the most number of clauses, but achieves the lowest accuracy\n"
   ]
  },
  {
   "cell_type": "markdown",
   "metadata": {},
   "source": [
    "(c) Finally, use the programs developed in (a) on a completely random dataset, generated artificially. Vary your strategies but also the number of input columns as well as the number of instances. How many if-then clauses do you need?"
   ]
  },
  {
   "cell_type": "code",
   "execution_count": 172,
   "metadata": {},
   "outputs": [],
   "source": [
    "def generate_artificial_data(n_samples, n_features):\n",
    "    X = np.random.rand(n_samples, n_features)\n",
    "    y = np.random.randint(0, 2, n_samples)\n",
    "    return X, y\n"
   ]
  },
  {
   "cell_type": "code",
   "execution_count": 173,
   "metadata": {},
   "outputs": [
    {
     "name": "stdout",
     "output_type": "stream",
     "text": [
      "SKLearn Decision Tree: 1.0 439\n",
      "Decision Tree from scratch: 1.0 425\n",
      "Unique Feature Value Strategy: 1.0 10000\n",
      "Number of samples: 1000\n"
     ]
    }
   ],
   "source": [
    "X, y = generate_artificial_data(1000, 10)\n",
    "check_methods(X, y)"
   ]
  },
  {
   "cell_type": "code",
   "execution_count": 174,
   "metadata": {},
   "outputs": [
    {
     "name": "stdout",
     "output_type": "stream",
     "text": [
      "SKLearn Decision Tree: 1.0 385\n",
      "Decision Tree from scratch: 1.0 361\n",
      "Unique Feature Value Strategy: 1.0 20000\n",
      "Number of samples: 1000\n"
     ]
    }
   ],
   "source": [
    "X, y = generate_artificial_data(1000, 20)\n",
    "check_methods(X, y)"
   ]
  },
  {
   "cell_type": "code",
   "execution_count": 175,
   "metadata": {},
   "outputs": [
    {
     "name": "stdout",
     "output_type": "stream",
     "text": [
      "SKLearn Decision Tree: 1.0 219\n",
      "Decision Tree from scratch: 1.0 209\n",
      "Unique Feature Value Strategy: 1.0 5000\n",
      "Number of samples: 500\n"
     ]
    }
   ],
   "source": [
    "X, y = generate_artificial_data(500, 10)\n",
    "check_methods(X, y)"
   ]
  },
  {
   "cell_type": "markdown",
   "metadata": {},
   "source": [
    "## Question 3\n",
    "(a) Create a long random string using a Python program, and use a lossless compression algorithm of your choice to compress the string. Note the compression ratio"
   ]
  },
  {
   "cell_type": "code",
   "execution_count": 1,
   "metadata": {},
   "outputs": [],
   "source": [
    "import random\n",
    "import string\n",
    "import zlib\n"
   ]
  },
  {
   "cell_type": "code",
   "execution_count": 5,
   "metadata": {},
   "outputs": [
    {
     "data": {
      "text/plain": [
       "'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'"
      ]
     },
     "execution_count": 5,
     "metadata": {},
     "output_type": "execute_result"
    }
   ],
   "source": [
    "random_string = ''.join(random.choices(string.ascii_letters  + string.digits, k=100000))\n",
    "random_string"
   ]
  },
  {
   "cell_type": "code",
   "execution_count": 6,
   "metadata": {},
   "outputs": [],
   "source": [
    "\n",
    "compressed_string = zlib.compress(random_string.encode())\n",
    "size = len(compressed_string)"
   ]
  },
  {
   "cell_type": "code",
   "execution_count": 7,
   "metadata": {},
   "outputs": [
    {
     "name": "stdout",
     "output_type": "stream",
     "text": [
      "Original length: 100000\n",
      "Compressed length: 75202\n",
      "Compression ratio: 1.329751868301375\n"
     ]
    }
   ],
   "source": [
    "print(\"Original length:\", len(random_string))\n",
    "print(\"Compressed length:\", len(compressed_string))\n",
    "print(\"Compression ratio:\",  len(random_string)/len(compressed_string))\n"
   ]
  },
  {
   "cell_type": "markdown",
   "metadata": {},
   "source": [
    "(b) What is the expected compression ratio in (a)? Explain why?\n",
    "\n",
    "The compression ratio achieved by lossless compression algorithms like zlib depends on the redundancy and patterns present in the data. The more redundancy and patterns, the higher the compression ratio. The expected compression ratio should be 1:1, as the string is random and has no redundancy or patterns.\n",
    "However, even though we are generating a random string, there might still be some sequences or patterns that could be compressed. For instance, if the random string contains repeating substrings, the compression algorithm might be able to exploit this redundancy and achieve a compression ratio greater than 1:1."
   ]
  },
  {
   "cell_type": "markdown",
   "metadata": {},
   "source": []
  }
 ],
 "metadata": {
  "kernelspec": {
   "display_name": "abbasi",
   "language": "python",
   "name": "python3"
  },
  "language_info": {
   "codemirror_mode": {
    "name": "ipython",
    "version": 3
   },
   "file_extension": ".py",
   "mimetype": "text/x-python",
   "name": "python",
   "nbconvert_exporter": "python",
   "pygments_lexer": "ipython3",
   "version": "3.7.11"
  }
 },
 "nbformat": 4,
 "nbformat_minor": 2
}
