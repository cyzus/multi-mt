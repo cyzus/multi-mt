{
 "cells": [
  {
   "cell_type": "markdown",
   "metadata": {},
   "source": [
    "# Exercise 8\n",
    "\n",
    "## 1. Maximum MEC of Neural Networks\n",
    "\n",
    "a) 4 * 3 + min(4*3, 3) + min(4, 3) =  18\n",
    "\n",
    "b) 3 + 4 + 4 = 11\n",
    "\n",
    "c) Binary classification\n",
    "\n",
    "maximum amount of rows for (a) - 18 rows\n",
    "\n",
    "maximum amount of rows for (b) - 11 rows\n",
    "\n",
    "d) 4 classes\n",
    "\n",
    "maximum amount of rows for (a) - 9 rows\n",
    "\n",
    "maximum amount of rows for (b) - 5 rows\n",
    "\n",
    "\n"
   ]
  },
  {
   "cell_type": "markdown",
   "metadata": {},
   "source": [
    "## 2. Design NNs \n",
    "Draw two different neural network architectures that can guarantee\n",
    "to memorize the training data of a 12-instance binary classification\n",
    "problem of 4-dimensional inputs (assuming perfect training)\n",
    "\n",
    "<img src=\"multi8-1.jpg\" alt=\"drawing\" width=\"300\"/>\n"
   ]
  },
  {
   "cell_type": "markdown",
   "metadata": {},
   "source": [
    "# 4. Upper Bounds:\n",
    "a) Do Exercise 40.8 in MacKay’s book (MacKay 2003). It is cited here as follows:\n",
    "\n",
    "Estimate in bits the total sensory experience that you have had in your life – visual information, auditory information, etc. Estimate how much information you have memorized. Estimate the information content of the works of Shakespeare. Compare these with the capacity of your brain assuming you have neurons each making 1000 synaptic connections and that the (information) capacity result for one neuron (two bits per connection) applies. Is your brain full yet?\n",
    "\n",
    "Note that MacKay is right to suggest using information capacity for this estimate as image and acoustic data are relatively high dimensional and he also suggests 1000 connections per neuron.\n",
    "\n",
    "The total sensory experience that I have had in my life\n",
    "\n",
    "https://www.britannica.com/science/information-theory/Physiology\n",
    "\n",
    "According to the article above, each second:\n",
    "- the eye receives 10^7 bits of information\n",
    "- the skin receives 10^6 bits of information\n",
    "- the ear receives 10^5 bits of information\n",
    "- the nose receives 10^5 bits of information\n",
    "- the tongue receives 10^3 bits of information\n"
   ]
  },
  {
   "cell_type": "code",
   "execution_count": 10,
   "metadata": {},
   "outputs": [],
   "source": [
    "eyes_bits_per_second = 10**7\n",
    "skin_bits_per_second = 10**6\n",
    "ears_bits_per_second = 10**5\n",
    "nose_bits_per_second = 10**5\n",
    "tongue_bits_per_second = 10**3"
   ]
  },
  {
   "cell_type": "code",
   "execution_count": 14,
   "metadata": {},
   "outputs": [
    {
     "name": "stdout",
     "output_type": "stream",
     "text": [
      "I am 7.253280e+08 seconds old\n",
      "I have seen 7.253280e+15 bits\n",
      "I have felt 7.253280e+14 bits\n",
      "I have heard 7.253280e+13 bits\n",
      "I have smelled 7.253280e+13 bits\n",
      "I have tasted 7.253280e+11 bits\n",
      "Total bits: 8.124399e+15\n"
     ]
    }
   ],
   "source": [
    "# I am 23 years old, so I have lived for:\n",
    "seconds = 23 * 365 * 24 * 60 * 60\n",
    "total_eyes_bits = eyes_bits_per_second * seconds\n",
    "total_skin_bits = skin_bits_per_second * seconds\n",
    "total_ears_bits = ears_bits_per_second * seconds\n",
    "total_nose_bits = nose_bits_per_second * seconds\n",
    "total_tongue_bits = tongue_bits_per_second * seconds\n",
    "\n",
    "print(f\"I am {seconds:e} seconds old\") # seconds\n",
    "print(f\"I have seen {total_eyes_bits:e} bits\") \n",
    "print(f\"I have felt {total_skin_bits:e} bits\") \n",
    "print(f\"I have heard {total_ears_bits:e} bits\") \n",
    "print(f\"I have smelled {total_nose_bits:e} bits\")\n",
    "print(f\"I have tasted {total_tongue_bits:e} bits\")\n",
    "\n",
    "sum_bits = total_eyes_bits + total_skin_bits + total_ears_bits + total_nose_bits + total_tongue_bits\n",
    "print(f\"Total bits: {sum_bits:e}\")"
   ]
  },
  {
   "cell_type": "markdown",
   "metadata": {},
   "source": [
    "Assume I can memorize 10% of the information we receive. Then, I have memorized:"
   ]
  },
  {
   "cell_type": "code",
   "execution_count": 17,
   "metadata": {},
   "outputs": [
    {
     "name": "stdout",
     "output_type": "stream",
     "text": [
      "Memorized bits: 8.124399e+14\n"
     ]
    }
   ],
   "source": [
    "memorized_bits = sum_bits * 0.1\n",
    "print(f\"Memorized bits: {memorized_bits:e}\")\n"
   ]
  },
  {
   "cell_type": "markdown",
   "metadata": {},
   "source": [
    "There are 884,421 total words in Shakespeare's 43 works"
   ]
  },
  {
   "cell_type": "code",
   "execution_count": 18,
   "metadata": {},
   "outputs": [
    {
     "name": "stdout",
     "output_type": "stream",
     "text": [
      "Total bits in Shakespeare's work (ASCII encoding): 3.537684e+07\n"
     ]
    }
   ],
   "source": [
    "num_words = 884421\n",
    "avg_word_length = 5\n",
    "num_letters = num_words * avg_word_length\n",
    "\n",
    "total_bits_ascii = num_letters * 8\n",
    "print(f\"Total bits in Shakespeare's work (ASCII encoding): {total_bits_ascii:e}\")"
   ]
  },
  {
   "cell_type": "code",
   "execution_count": 36,
   "metadata": {},
   "outputs": [
    {
     "name": "stdout",
     "output_type": "stream",
     "text": [
      "Brain capacity: 2.000000e+15 bits\n"
     ]
    }
   ],
   "source": [
    "## Brain capacity\n",
    "num_neurons = 10**11\n",
    "num_synapses = num_neurons * 1000\n",
    "num_layers = 10\n",
    "brain_capacity = 2 * num_synapses * num_layers \n",
    "\n",
    "print(f\"Brain capacity: {brain_capacity:e} bits\")"
   ]
  },
  {
   "cell_type": "code",
   "execution_count": 37,
   "metadata": {},
   "outputs": [
    {
     "name": "stdout",
     "output_type": "stream",
     "text": [
      "Alternative brain capacity: 2.000000e+16 bits\n"
     ]
    }
   ],
   "source": [
    "# Upon researching, the brain capacity is 2.5 petabytes according to \n",
    "# https://www.medanta.org/patient-education-blog/what-is-the-memory-capacity-of-a-human-brain#:~:text=The%20human%20brain%20contains%20billions,bytes%20of%20data%20%E2%80%93%20a%20petabyte.\n",
    "brain_capacity_2 = 2.5 * 10**15 * 8\n",
    "print(f\"Alternative brain capacity: {brain_capacity_2:e} bits\")"
   ]
  },
  {
   "cell_type": "code",
   "execution_count": 38,
   "metadata": {},
   "outputs": [
    {
     "name": "stdout",
     "output_type": "stream",
     "text": [
      "Proportion of brain used: 0.41\n",
      "Proportion of brain capacity to memorize Shakespeare's works: 0.00\n"
     ]
    }
   ],
   "source": [
    "proportion_used = memorized_bits / brain_capacity\n",
    "print(f\"Proportion of brain used: {proportion_used:.2f}\")\n",
    "shakespeare_proportion = total_bits_ascii / brain_capacity\n",
    "print(f\"Proportion of brain capacity to memorize Shakespeare's works: {shakespeare_proportion:.2f}\")"
   ]
  },
  {
   "cell_type": "code",
   "execution_count": 39,
   "metadata": {},
   "outputs": [
    {
     "name": "stdout",
     "output_type": "stream",
     "text": [
      "Proportion of brain used (alt_source): 0.04\n",
      "Proportion of brain capacity to memorize Shakespeare's works (alt_source): 0.00\n"
     ]
    }
   ],
   "source": [
    "proportion_used = memorized_bits / brain_capacity_2\n",
    "print(f\"Proportion of brain used (alt_source): {proportion_used:.2f}\")\n",
    "shakespeare_proportion = total_bits_ascii / brain_capacity_2\n",
    "print(f\"Proportion of brain capacity to memorize Shakespeare's works (alt_source): {shakespeare_proportion:.2f}\")"
   ]
  },
  {
   "cell_type": "markdown",
   "metadata": {},
   "source": [
    "b) Expand Algorithm 8 to work with more than one binary classification.\n"
   ]
  },
  {
   "cell_type": "code",
   "execution_count": 123,
   "metadata": {},
   "outputs": [],
   "source": [
    "#  Calculate the upper-bound memory-equivalent capacity expected for a three-layer neural network\n",
    "import numpy as np\n",
    "import math\n",
    "import pandas as pd\n",
    "\n",
    "def calculate_mec(X, y, task=\"classification\"): # task should be either \"classification\" or \"regression\"\n",
    "    thresholds = 0\n",
    "    num_rows, num_features = X.shape\n",
    "    table = np.zeros((num_rows, 2))\n",
    "    unique_labels = np.unique(y)\n",
    "    for row in range(num_rows):\n",
    "        table[row, 0] = np.sum(X[row])\n",
    "        table[row, 1] = y[row]\n",
    "    sorted_table = sorted(table, key=lambda x: (x[0], x[1]))\n",
    "    sorted_table = np.array(sorted_table)\n",
    "    label = 0\n",
    "    # print(sorted_table)\n",
    "    for row in range(num_rows):\n",
    "        if not sorted_table[row,1] == label:\n",
    "            thresholds += 1\n",
    "            label = sorted_table[row,1]\n",
    "    minthreshs = math.log(thresholds + 1, len(unique_labels))\n",
    "    if task == \"classification\":\n",
    "        mec = minthreshs * (num_features + 1) + (minthreshs + 1)\n",
    "    elif task == \"regression\":\n",
    "        mec = minthreshs * (num_features + 1)\n",
    "    return mec        \n"
   ]
  },
  {
   "cell_type": "code",
   "execution_count": 126,
   "metadata": {},
   "outputs": [
    {
     "data": {
      "text/plain": [
       "50.04955409500408"
      ]
     },
     "execution_count": 126,
     "metadata": {},
     "output_type": "execute_result"
    }
   ],
   "source": [
    "# Binary classification\n",
    "X = np.random.randint(0, 2, (100, 10))\n",
    "y = np.random.randint(0, 2, (100, 1))\n",
    "mec = calculate_mec(X, y, \"classification\")\n",
    "mec"
   ]
  },
  {
   "cell_type": "code",
   "execution_count": 127,
   "metadata": {},
   "outputs": [
    {
     "data": {
      "text/plain": [
       "21.490842113175233"
      ]
     },
     "execution_count": 127,
     "metadata": {},
     "output_type": "execute_result"
    }
   ],
   "source": [
    "# Multi-class classification\n",
    "X = np.random.randint(0, 2, (100, 10))\n",
    "y = np.random.randint(0, 10, (100, 1))\n",
    "mec = calculate_mec(X, y, \"classification\")\n",
    "mec"
   ]
  },
  {
   "cell_type": "markdown",
   "metadata": {},
   "source": [
    "c) Expand Algorithm 8 to work with regression."
   ]
  },
  {
   "cell_type": "code",
   "execution_count": 128,
   "metadata": {},
   "outputs": [
    {
     "data": {
      "text/plain": [
       "18.7832719370773"
      ]
     },
     "execution_count": 128,
     "metadata": {},
     "output_type": "execute_result"
    }
   ],
   "source": [
    "# Multi-class regression\n",
    "# X = np.random.randint(0, 2, (100, 10))\n",
    "# y = np.random.randint(0, 10, (100, 1))\n",
    "mec = calculate_mec(X, y, task=\"regression\")\n",
    "mec"
   ]
  },
  {
   "cell_type": "markdown",
   "metadata": {},
   "source": []
  }
 ],
 "metadata": {
  "kernelspec": {
   "display_name": "abbasi",
   "language": "python",
   "name": "python3"
  },
  "language_info": {
   "codemirror_mode": {
    "name": "ipython",
    "version": 3
   },
   "file_extension": ".py",
   "mimetype": "text/x-python",
   "name": "python",
   "nbconvert_exporter": "python",
   "pygments_lexer": "ipython3",
   "version": "3.7.11"
  }
 },
 "nbformat": 4,
 "nbformat_minor": 2
}
